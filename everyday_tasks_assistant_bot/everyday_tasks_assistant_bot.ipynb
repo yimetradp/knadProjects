{
 "cells": [
  {
   "cell_type": "code",
   "execution_count": 1,
   "id": "b65331e1-3c35-45eb-a4b7-e9b50d65a7b6",
   "metadata": {},
   "outputs": [
    {
     "name": "stdout",
     "output_type": "stream",
     "text": [
      "TELEGRAM_TOKEN: True\n"
     ]
    }
   ],
   "source": [
    "import os\n",
    "import logging\n",
    "from telegram import Update, ReplyKeyboardMarkup\n",
    "from telegram.ext import (\n",
    "    ApplicationBuilder,\n",
    "    CommandHandler,\n",
    "    ContextTypes,\n",
    "    MessageHandler,\n",
    "    filters,\n",
    ")\n",
    "from dotenv import load_dotenv\n",
    "import requests\n",
    "\n",
    "load_dotenv()\n",
    "\n",
    "TOKEN = os.getenv(\"TELEGRAM_TOKEN\")\n",
    "\n",
    "print(\"TELEGRAM_TOKEN:\", TOKEN is not None)"
   ]
  },
  {
   "cell_type": "code",
   "execution_count": 2,
   "id": "1c645451-ef7e-42ce-95f9-dd8c7a57599b",
   "metadata": {},
   "outputs": [],
   "source": [
    "logging.basicConfig(\n",
    "    format='%(asctime)s - %(name)s - %(levelname)s - %(message)s',\n",
    "    level=logging.INFO\n",
    ")\n",
    "logger = logging.getLogger(__name__)"
   ]
  },
  {
   "cell_type": "code",
   "execution_count": 3,
   "id": "eae7c921-4f49-4a67-9e0f-59ac838bca87",
   "metadata": {},
   "outputs": [],
   "source": [
    "async def start(update: Update, context: ContextTypes.DEFAULT_TYPE):\n",
    "    reply_keyboard = [['Цитата'],\n",
    "                      ['Анекдот'],\n",
    "                      ['Имя'],\n",
    "                      ['Восход и закат'],\n",
    "                      ['Да или нет']]\n",
    "    markup = ReplyKeyboardMarkup(reply_keyboard, one_time_keyboard=True)\n",
    "    await update.message.reply_text(\n",
    "        \"Привет! Я ваш помощник. Чем могу помочь?\",\n",
    "        reply_markup=markup\n",
    "    )"
   ]
  },
  {
   "cell_type": "code",
   "execution_count": 4,
   "id": "77182d77-d9c0-4162-ab4a-5296206cf13e",
   "metadata": {},
   "outputs": [],
   "source": [
    "async def quote(update: Update, context: ContextTypes.DEFAULT_TYPE):\n",
    "    url = \"https://ron-swanson-quotes.herokuapp.com/v2/quotes\"\n",
    "    response = requests.get(url)\n",
    "    if response.status_code != 200:\n",
    "        await update.message.reply_text(\"Не удалось получить цитату. Попробуйте позже.\")\n",
    "        return\n",
    "    data = response.json()\n",
    "    quote = data[0]\n",
    "    if quote:\n",
    "        await update.message.reply_text(quote)\n",
    "    else:\n",
    "        await update.message.reply_text(\"Не удалось получить цитату. Попробуйте позже.\")"
   ]
  },
  {
   "cell_type": "code",
   "execution_count": 5,
   "id": "e2043a34-938f-4c43-8654-4a5d42f16b90",
   "metadata": {},
   "outputs": [],
   "source": [
    "async def joke(update: Update, context: ContextTypes.DEFAULT_TYPE):\n",
    "    url = \"https://official-joke-api.appspot.com/random_joke\"\n",
    "    response = requests.get(url)\n",
    "    if response.status_code != 200:\n",
    "        await update.message.reply_text(\"Не удалось получить анекдот. Попробуйте позже.\")\n",
    "        return\n",
    "    data = response.json()\n",
    "    setup = data.get('setup')\n",
    "    punchline = data.get('punchline')\n",
    "    if setup and punchline:\n",
    "        await update.message.reply_text(f\"{setup}\\n\\n{punchline}\")\n",
    "    else:\n",
    "        await update.message.reply_text(\"Не удалось получить анекдот. Попробуйте позже.\")"
   ]
  },
  {
   "cell_type": "code",
   "execution_count": 6,
   "id": "b084c7bf-0a00-4b9c-bf70-da9e25da7095",
   "metadata": {},
   "outputs": [],
   "source": [
    "async def name(update: Update, context: ContextTypes.DEFAULT_TYPE):\n",
    "    if context.args:\n",
    "        name = ' '.join(context.args)\n",
    "        url = f'https://api.genderize.io?name={name}'\n",
    "        response = requests.get(url)\n",
    "        data = response.json()\n",
    "        gender = data.get('gender')\n",
    "        gender_dict = {'male': 'мужчина', 'female': 'девушка'}\n",
    "        probability = data.get('probability')\n",
    "        if gender and probability:\n",
    "            await update.message.reply_text(f'С вероятностью в {round(probability * 100, 2)}% уверен, что Вы {gender_dict[gender]}')\n",
    "        else:\n",
    "            await update.message.reply_text(\"Ваше имя не распознать.\")\n",
    "    else:\n",
    "        await update.message.reply_text(\"Пожалуйста, введите ваше имя на английском. Пример: /name Mary\")"
   ]
  },
  {
   "cell_type": "code",
   "execution_count": 7,
   "id": "720fba12-1f6b-4ee6-bd0c-8ac68bd18fec",
   "metadata": {},
   "outputs": [],
   "source": [
    "async def sun(update: Update, context: ContextTypes.DEFAULT_TYPE):\n",
    "    url = \"https://api.sunrise-sunset.org/json?lat=36.7201600&lng=-4.4203400\"\n",
    "    response = requests.get(url)\n",
    "    if response.status_code != 200:\n",
    "        await update.message.reply_text(\"Не удалось получить информацию. Попробуйте позже.\")\n",
    "        return\n",
    "    data = response.json()\n",
    "    results = data.get('results')\n",
    "    sunrise = results.get('sunrise')\n",
    "    sunset = results.get('sunset')\n",
    "    if sunrise and sunset:\n",
    "        await update.message.reply_text(f\"Время восхода: {sunrise}\\nВремя заката: {sunset}\")\n",
    "    else:\n",
    "        await update.message.reply_text(\"Не удалось получить информацию. Попробуйте позже.\")"
   ]
  },
  {
   "cell_type": "code",
   "execution_count": 8,
   "id": "32aff198-0d38-4048-a60b-fe0f36732a81",
   "metadata": {},
   "outputs": [],
   "source": [
    "async def yesno(update: Update, context: ContextTypes.DEFAULT_TYPE):\n",
    "    url = \"https://yesno.wtf/api\"\n",
    "    response = requests.get(url)\n",
    "    if response.status_code != 200:\n",
    "        await update.message.reply_text(\"Не удалось получить ответ. Попробуйте позже.\")\n",
    "        return\n",
    "    data = response.json()\n",
    "    answer = data.get('answer')\n",
    "    answer_dict = {'yes': 'Да', 'no': 'Нет'}\n",
    "    image = data.get('image')\n",
    "    if answer:\n",
    "        await update.message.reply_text(answer_dict[answer])\n",
    "        if image:\n",
    "            await update.message.reply_photo(photo=image)\n",
    "    else:\n",
    "        await update.message.reply_text(\"Не удалось получить ответ. Попробуйте позже.\")"
   ]
  },
  {
   "cell_type": "code",
   "execution_count": 9,
   "id": "47b3dc7f-5399-4a96-a4c0-c040ffd5c180",
   "metadata": {},
   "outputs": [],
   "source": [
    "async def handle_message(update: Update, context: ContextTypes.DEFAULT_TYPE):\n",
    "    text = update.message.text.lower()\n",
    "    if text == 'цитата':\n",
    "        await quote(update, context)\n",
    "    elif text == 'анекдот':\n",
    "        await joke(update, context)\n",
    "    elif text == 'имя':\n",
    "        await update.message.reply_text(\"Введите ваше имя /name <имя>\")\n",
    "    elif text == 'восход и закат':\n",
    "        await sun(update, context)\n",
    "    elif text == 'да или нет':\n",
    "        await yesno(update, context)\n",
    "    else:\n",
    "        await update.message.reply_text(\"Извините, я не понимаю эту команду.\")"
   ]
  },
  {
   "cell_type": "code",
   "execution_count": 10,
   "id": "3057cf48-66aa-4e8a-a155-20adf5a499a0",
   "metadata": {},
   "outputs": [],
   "source": [
    "import nest_asyncio\n",
    "nest_asyncio.apply()"
   ]
  },
  {
   "cell_type": "code",
   "execution_count": 11,
   "id": "ae158e54-10db-4c7d-ba28-4b072b1a0931",
   "metadata": {},
   "outputs": [],
   "source": [
    "from telegram.ext import CommandHandler, MessageHandler, filters\n",
    "\n",
    "async def main():\n",
    "    application = ApplicationBuilder().token(TOKEN).build()\n",
    "\n",
    "    application.add_handler(CommandHandler('start', start))\n",
    "    application.add_handler(CommandHandler('quote', quote))\n",
    "    application.add_handler(CommandHandler('joke', joke))\n",
    "    application.add_handler(CommandHandler('name', name))\n",
    "    application.add_handler(CommandHandler('sun', sun))\n",
    "    application.add_handler(CommandHandler('yesno', yesno))\n",
    "\n",
    "    application.add_handler(MessageHandler(filters.TEXT & ~filters.COMMAND, handle_message))\n",
    "\n",
    "    await application.run_polling()"
   ]
  },
  {
   "cell_type": "code",
   "execution_count": 12,
   "id": "1049ec0b-fc4b-43ba-ad5b-1ba849983671",
   "metadata": {},
   "outputs": [
    {
     "name": "stdout",
     "output_type": "stream",
     "text": [
      "Бот запущен. Теперь вы можете взаимодействовать с ним через Telegram.\n"
     ]
    }
   ],
   "source": [
    "import asyncio\n",
    "\n",
    "loop = asyncio.get_event_loop()\n",
    "loop.create_task(main())\n",
    "\n",
    "print(\"Бот запущен. Теперь вы можете взаимодействовать с ним через Telegram.\")"
   ]
  },
  {
   "cell_type": "code",
   "execution_count": null,
   "id": "c44c98d8-bb2e-429c-83ae-873fd17b876d",
   "metadata": {},
   "outputs": [],
   "source": []
  }
 ],
 "metadata": {
  "kernelspec": {
   "display_name": "Python 3 (ipykernel)",
   "language": "python",
   "name": "python3"
  },
  "language_info": {
   "codemirror_mode": {
    "name": "ipython",
    "version": 3
   },
   "file_extension": ".py",
   "mimetype": "text/x-python",
   "name": "python",
   "nbconvert_exporter": "python",
   "pygments_lexer": "ipython3",
   "version": "3.12.2"
  }
 },
 "nbformat": 4,
 "nbformat_minor": 5
}
